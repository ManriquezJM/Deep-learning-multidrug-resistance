{
  "nbformat": 4,
  "nbformat_minor": 0,
  "metadata": {
    "colab": {
      "provenance": [],
      "toc_visible": true,
      "authorship_tag": "ABX9TyNCkkx60TmhhIRNCRo3d3zp",
      "include_colab_link": true
    },
    "kernelspec": {
      "name": "python3",
      "display_name": "Python 3"
    },
    "language_info": {
      "name": "python"
    }
  },
  "cells": [
    {
      "cell_type": "markdown",
      "metadata": {
        "id": "view-in-github",
        "colab_type": "text"
      },
      "source": [
        "<a href=\"https://colab.research.google.com/github/ManriquezJM/Deep-learning-multidrug-resistance/blob/main/examples/e_coli_multilabel_example.ipynb\" target=\"_parent\"><img src=\"https://colab.research.google.com/assets/colab-badge.svg\" alt=\"Open In Colab\"/></a>"
      ]
    },
    {
      "cell_type": "markdown",
      "source": [
        "# 0 - Libraries"
      ],
      "metadata": {
        "id": "MZgJvHDkXZOW"
      }
    },
    {
      "cell_type": "code",
      "source": [
        " #Para manejar los archivos y, por ejemplo, exportar a su navegador\n",
        "import glob                     # Para manejar los archivos y, por ejemplo, exportar a su navegador\n",
        "import numpy as np\n",
        "import matplotlib as mpl\n",
        "import matplotlib.pyplot as plt\n",
        "import itertools\n",
        "import pandas as pd\n",
        "import graphviz # for showing model diagram\n",
        "\n",
        "import sys\n",
        "import os\n",
        "\n",
        "import sklearn\n",
        "from sklearn.metrics import confusion_matrix,classification_report,ConfusionMatrixDisplay\n",
        "from sklearn.preprocessing import LabelEncoder, OneHotEncoder\n",
        "from sklearn.compose import ColumnTransformer\n",
        "from sklearn.model_selection import train_test_split\n",
        "from sklearn.preprocessing import Normalizer, StandardScaler, MinMaxScaler, MaxAbsScaler, RobustScaler, QuantileTransformer, PowerTransformer\n",
        "\n",
        "import tensorflow as tf\n",
        "import keras\n",
        "from keras import regularizers\n",
        "from keras.models import load_model\n",
        "from keras.optimizers import Adam\n",
        "from keras.backend import expand_dims\n",
        "from keras.callbacks import ReduceLROnPlateau, EarlyStopping\n",
        "from keras.models import Sequential\n",
        "from keras.constraints import MaxNorm\n",
        "from keras.layers import Activation, Dense, Conv1D, Flatten, MaxPooling1D, MaxPooling1D, UpSampling1D, Dropout, BatchNormalization, LeakyReLU, ReLU\n",
        "from keras.models import Model # for creating a Neural Network Autoencoder model\n",
        "from keras import Input # for instantiating a keras tensor\n",
        "from keras.utils import plot_model # for plotting model diagram\n",
        "\n",
        "from kerastuner.tuners import BayesianOptimization\n",
        "from tensorflow.keras import layers\n",
        "from kerastuner import Objective\n",
        "from tensorflow.keras.metrics import AUC"
      ],
      "metadata": {
        "id": "4y6F0mgeUy9C",
        "colab": {
          "base_uri": "https://localhost:8080/"
        },
        "outputId": "ef0eb508-1634-4fe4-bd0d-389707a9b5c8"
      },
      "execution_count": null,
      "outputs": [
        {
          "output_type": "stream",
          "name": "stderr",
          "text": [
            "2023-09-24 02:15:01.220049: I tensorflow/core/util/port.cc:110] oneDNN custom operations are on. You may see slightly different numerical results due to floating-point round-off errors from different computation orders. To turn them off, set the environment variable `TF_ENABLE_ONEDNN_OPTS=0`.\n",
            "2023-09-24 02:15:01.269069: I tensorflow/core/platform/cpu_feature_guard.cc:182] This TensorFlow binary is optimized to use available CPU instructions in performance-critical operations.\n",
            "To enable the following instructions: AVX2 AVX512F AVX512_VNNI FMA, in other operations, rebuild TensorFlow with the appropriate compiler flags.\n",
            "2023-09-24 02:15:02.004626: W tensorflow/compiler/tf2tensorrt/utils/py_utils.cc:38] TF-TRT Warning: Could not find TensorRT\n",
            "/tmp/ipykernel_611365/2668894149.py:34: DeprecationWarning: `import kerastuner` is deprecated, please use `import keras_tuner`.\n",
            "  from kerastuner.tuners import BayesianOptimization\n"
          ]
        }
      ]
    },
    {
      "cell_type": "code",
      "source": [
        "METRICS = [\n",
        "      keras.metrics.TruePositives(name='tp'),\n",
        "      keras.metrics.FalsePositives(name='fp'),\n",
        "      keras.metrics.TrueNegatives(name='tn'),\n",
        "      keras.metrics.FalseNegatives(name='fn'),\n",
        "      keras.metrics.BinaryAccuracy(name='accuracy'),\n",
        "      keras.metrics.Precision(name='precision'),\n",
        "      keras.metrics.Recall(name='recall'),\n",
        "      keras.metrics.AUC(name='auc',multi_label=True),\n",
        "      keras.metrics.AUC(name='prc', curve='PR',multi_label=True), # precision-recall curve\n",
        "      keras.metrics.F1Score(name='f1_score', average='macro')\n",
        "]"
      ],
      "metadata": {
        "id": "keCsZ8d6Uy4M",
        "colab": {
          "base_uri": "https://localhost:8080/"
        },
        "outputId": "8929e68f-3871-420b-f8a9-bb07cddb46d9"
      },
      "execution_count": null,
      "outputs": [
        {
          "output_type": "stream",
          "name": "stderr",
          "text": [
            "2023-09-23 20:23:44.535052: I tensorflow/core/common_runtime/gpu/gpu_device.cc:1639] Created device /job:localhost/replica:0/task:0/device:GPU:0 with 14231 MB memory:  -> device: 0, name: NVIDIA RTX A4000, pci bus id: 0000:c3:00.0, compute capability: 8.6\n"
          ]
        }
      ]
    },
    {
      "cell_type": "code",
      "source": [
        "device_name = tf.test.gpu_device_name()\n",
        "if not device_name:\n",
        "  raise SystemError('No GPU found')\n",
        "\n",
        "print('Device found: {}'.format(device_name))"
      ],
      "metadata": {
        "colab": {
          "base_uri": "https://localhost:8080/"
        },
        "id": "Oa7CPeC8Uy6l",
        "outputId": "82da03e3-e9f4-4a90-a8bc-9fff7c07eb79"
      },
      "execution_count": null,
      "outputs": [
        {
          "output_type": "stream",
          "name": "stderr",
          "text": [
            "2023-09-23 20:44:24.277438: I tensorflow/core/common_runtime/gpu/gpu_device.cc:1639] Created device /device:GPU:0 with 14231 MB memory:  -> device: 0, name: NVIDIA RTX A4000, pci bus id: 0000:c3:00.0, compute capability: 8.6\n",
            "2023-09-23 20:44:24.286701: I tensorflow/core/common_runtime/gpu/gpu_device.cc:1639] Created device /device:GPU:0 with 14231 MB memory:  -> device: 0, name: NVIDIA RTX A4000, pci bus id: 0000:c3:00.0, compute capability: 8.6\n",
            "2023-09-23 20:44:24.294210: I tensorflow/core/common_runtime/gpu/gpu_device.cc:1639] Created device /device:GPU:0 with 14231 MB memory:  -> device: 0, name: NVIDIA RTX A4000, pci bus id: 0000:c3:00.0, compute capability: 8.6\n"
          ]
        },
        {
          "output_type": "stream",
          "name": "stdout",
          "text": [
            "GPU disponible: /device:GPU:0\n",
            "Dispositivo encontrado: /device:GPU:0\n"
          ]
        }
      ]
    },
    {
      "cell_type": "markdown",
      "source": [
        "#1 - Load data"
      ],
      "metadata": {
        "id": "gl6biwrgXg5W"
      }
    },
    {
      "cell_type": "code",
      "source": [
        "driams = pd.read_csv('/home/jmanriquez/driams_datasets/e_coli/e_coli_driams_a_bin2_2000_10000Da_v2.csv')\n",
        "   # Reemplazamos los perfiles de resistencia (variables dependientes) por 0 y 1\n",
        "driams.drop(columns=['code', 'species', 'Ceftazidime','Gentamicin','Ertapenem','Clindamycin','Cefepime','Piperacillin-Tazobactam','Meropenem','Imipenem','Tobramycin','Fusidic acid','Oxacillin','Vancomycin'], inplace=True)\n",
        "driams.dropna(axis=1, how=\"all\", inplace=True)\n",
        "driams.dropna(axis=0, how=\"any\", inplace=True)\n",
        "driams.head()"
      ],
      "metadata": {
        "colab": {
          "base_uri": "https://localhost:8080/",
          "height": 255
        },
        "id": "gyPoTUEeVwY5",
        "outputId": "2dc5e779-a3a2-4c6e-db7a-eb286af80c30"
      },
      "execution_count": null,
      "outputs": [
        {
          "output_type": "execute_result",
          "data": {
            "text/plain": [
              "      2000    2002    2004     2006    2008    2010    2012    2014     2016  \\\n",
              "0   813.25  1006.0  1030.2   776.60   814.0  1046.0  1148.2   820.0   940.20   \n",
              "1   110.80   103.4   110.5   105.20    95.8   123.6    85.5    91.4    91.80   \n",
              "2  1676.40  1631.6  1670.2  1972.25  1983.8  2505.6  2457.0  2221.8  1926.25   \n",
              "3   496.20   429.2   475.0   448.75   522.2   515.4   474.0   550.5   497.00   \n",
              "4   694.75   599.4   622.0   710.60   848.5   844.6   930.4   825.4   747.25   \n",
              "\n",
              "      2018  ...    9984    9986         9988        9990   9992    9994  \\\n",
              "0   783.25  ...   117.5   146.0   182.500000  180.333333  115.5   147.5   \n",
              "1    94.20  ...   261.0   180.0   213.500000  231.000000  195.0   250.0   \n",
              "2  1637.00  ...   508.5   518.0   493.500000  526.666667  573.5   539.5   \n",
              "3   525.40  ...  1097.0  1163.0  1016.666667  957.000000  949.5  1075.5   \n",
              "4   742.60  ...   105.5   117.0   104.000000  128.500000  136.5   127.5   \n",
              "\n",
              "    9996        9998  Ciprofloxacin  Ceftriaxone  \n",
              "0  107.0   34.553199            0.0          1.0  \n",
              "1  227.5  108.607311            0.0          0.0  \n",
              "2  531.0  175.364330            0.0          0.0  \n",
              "3  931.0  292.014401            0.0          0.0  \n",
              "4   98.5   37.187957            0.0          0.0  \n",
              "\n",
              "[5 rows x 4002 columns]"
            ],
            "text/html": [
              "<div>\n",
              "<style scoped>\n",
              "    .dataframe tbody tr th:only-of-type {\n",
              "        vertical-align: middle;\n",
              "    }\n",
              "\n",
              "    .dataframe tbody tr th {\n",
              "        vertical-align: top;\n",
              "    }\n",
              "\n",
              "    .dataframe thead th {\n",
              "        text-align: right;\n",
              "    }\n",
              "</style>\n",
              "<table border=\"1\" class=\"dataframe\">\n",
              "  <thead>\n",
              "    <tr style=\"text-align: right;\">\n",
              "      <th></th>\n",
              "      <th>2000</th>\n",
              "      <th>2002</th>\n",
              "      <th>2004</th>\n",
              "      <th>2006</th>\n",
              "      <th>2008</th>\n",
              "      <th>2010</th>\n",
              "      <th>2012</th>\n",
              "      <th>2014</th>\n",
              "      <th>2016</th>\n",
              "      <th>2018</th>\n",
              "      <th>...</th>\n",
              "      <th>9984</th>\n",
              "      <th>9986</th>\n",
              "      <th>9988</th>\n",
              "      <th>9990</th>\n",
              "      <th>9992</th>\n",
              "      <th>9994</th>\n",
              "      <th>9996</th>\n",
              "      <th>9998</th>\n",
              "      <th>Ciprofloxacin</th>\n",
              "      <th>Ceftriaxone</th>\n",
              "    </tr>\n",
              "  </thead>\n",
              "  <tbody>\n",
              "    <tr>\n",
              "      <th>0</th>\n",
              "      <td>813.25</td>\n",
              "      <td>1006.0</td>\n",
              "      <td>1030.2</td>\n",
              "      <td>776.60</td>\n",
              "      <td>814.0</td>\n",
              "      <td>1046.0</td>\n",
              "      <td>1148.2</td>\n",
              "      <td>820.0</td>\n",
              "      <td>940.20</td>\n",
              "      <td>783.25</td>\n",
              "      <td>...</td>\n",
              "      <td>117.5</td>\n",
              "      <td>146.0</td>\n",
              "      <td>182.500000</td>\n",
              "      <td>180.333333</td>\n",
              "      <td>115.5</td>\n",
              "      <td>147.5</td>\n",
              "      <td>107.0</td>\n",
              "      <td>34.553199</td>\n",
              "      <td>0.0</td>\n",
              "      <td>1.0</td>\n",
              "    </tr>\n",
              "    <tr>\n",
              "      <th>1</th>\n",
              "      <td>110.80</td>\n",
              "      <td>103.4</td>\n",
              "      <td>110.5</td>\n",
              "      <td>105.20</td>\n",
              "      <td>95.8</td>\n",
              "      <td>123.6</td>\n",
              "      <td>85.5</td>\n",
              "      <td>91.4</td>\n",
              "      <td>91.80</td>\n",
              "      <td>94.20</td>\n",
              "      <td>...</td>\n",
              "      <td>261.0</td>\n",
              "      <td>180.0</td>\n",
              "      <td>213.500000</td>\n",
              "      <td>231.000000</td>\n",
              "      <td>195.0</td>\n",
              "      <td>250.0</td>\n",
              "      <td>227.5</td>\n",
              "      <td>108.607311</td>\n",
              "      <td>0.0</td>\n",
              "      <td>0.0</td>\n",
              "    </tr>\n",
              "    <tr>\n",
              "      <th>2</th>\n",
              "      <td>1676.40</td>\n",
              "      <td>1631.6</td>\n",
              "      <td>1670.2</td>\n",
              "      <td>1972.25</td>\n",
              "      <td>1983.8</td>\n",
              "      <td>2505.6</td>\n",
              "      <td>2457.0</td>\n",
              "      <td>2221.8</td>\n",
              "      <td>1926.25</td>\n",
              "      <td>1637.00</td>\n",
              "      <td>...</td>\n",
              "      <td>508.5</td>\n",
              "      <td>518.0</td>\n",
              "      <td>493.500000</td>\n",
              "      <td>526.666667</td>\n",
              "      <td>573.5</td>\n",
              "      <td>539.5</td>\n",
              "      <td>531.0</td>\n",
              "      <td>175.364330</td>\n",
              "      <td>0.0</td>\n",
              "      <td>0.0</td>\n",
              "    </tr>\n",
              "    <tr>\n",
              "      <th>3</th>\n",
              "      <td>496.20</td>\n",
              "      <td>429.2</td>\n",
              "      <td>475.0</td>\n",
              "      <td>448.75</td>\n",
              "      <td>522.2</td>\n",
              "      <td>515.4</td>\n",
              "      <td>474.0</td>\n",
              "      <td>550.5</td>\n",
              "      <td>497.00</td>\n",
              "      <td>525.40</td>\n",
              "      <td>...</td>\n",
              "      <td>1097.0</td>\n",
              "      <td>1163.0</td>\n",
              "      <td>1016.666667</td>\n",
              "      <td>957.000000</td>\n",
              "      <td>949.5</td>\n",
              "      <td>1075.5</td>\n",
              "      <td>931.0</td>\n",
              "      <td>292.014401</td>\n",
              "      <td>0.0</td>\n",
              "      <td>0.0</td>\n",
              "    </tr>\n",
              "    <tr>\n",
              "      <th>4</th>\n",
              "      <td>694.75</td>\n",
              "      <td>599.4</td>\n",
              "      <td>622.0</td>\n",
              "      <td>710.60</td>\n",
              "      <td>848.5</td>\n",
              "      <td>844.6</td>\n",
              "      <td>930.4</td>\n",
              "      <td>825.4</td>\n",
              "      <td>747.25</td>\n",
              "      <td>742.60</td>\n",
              "      <td>...</td>\n",
              "      <td>105.5</td>\n",
              "      <td>117.0</td>\n",
              "      <td>104.000000</td>\n",
              "      <td>128.500000</td>\n",
              "      <td>136.5</td>\n",
              "      <td>127.5</td>\n",
              "      <td>98.5</td>\n",
              "      <td>37.187957</td>\n",
              "      <td>0.0</td>\n",
              "      <td>0.0</td>\n",
              "    </tr>\n",
              "  </tbody>\n",
              "</table>\n",
              "<p>5 rows × 4002 columns</p>\n",
              "</div>"
            ]
          },
          "metadata": {},
          "execution_count": 4
        }
      ]
    },
    {
      "cell_type": "code",
      "source": [
        "print('ceftriaxone samples \\n',driams.Ceftriaxone.value_counts())\n",
        "print('Ciprofloxacin samples \\n',driams.Ciprofloxacin.value_counts())"
      ],
      "metadata": {
        "colab": {
          "base_uri": "https://localhost:8080/"
        },
        "id": "bRykEFtLVwWP",
        "outputId": "73e3824b-9e92-43a8-8414-2f12b0a9f682"
      },
      "execution_count": null,
      "outputs": [
        {
          "output_type": "stream",
          "name": "stdout",
          "text": [
            "datos de ceftriaxone \n",
            " 0.0    3821\n",
            "1.0    1039\n",
            "Name: Ceftriaxone, dtype: int64\n",
            "datos de Ciprofloxacin \n",
            " 0.0    3411\n",
            "1.0    1449\n",
            "Name: Ciprofloxacin, dtype: int64\n"
          ]
        }
      ]
    },
    {
      "cell_type": "code",
      "source": [
        "X = driams.iloc[:, 0:4000].values  # variables independientes (espectros de masa)\n",
        "y = driams.iloc[:, 4000:4002].values    # variable dependientes (resistencia a ciprofloxacin)\n",
        "X = np.asarray(X)\n",
        "y = np.asarray(y)"
      ],
      "metadata": {
        "id": "T3UtNdnqVwT7"
      },
      "execution_count": null,
      "outputs": []
    },
    {
      "cell_type": "code",
      "source": [
        "# Split Data\n",
        "X_train, X_test, y_train, y_test = train_test_split(X, y, test_size = 0.2, random_state = 0, stratify=y)\n",
        "X_train, X_val, y_train, y_val = train_test_split(X_train, y_train, test_size = 0.1, random_state = 0, stratify=y_train)"
      ],
      "metadata": {
        "id": "kXgKZ5AYUy10"
      },
      "execution_count": null,
      "outputs": []
    },
    {
      "cell_type": "code",
      "source": [
        "# Normalize data\n",
        "scaler=Normalizer(norm='max')\n",
        "sc_X = scaler\n",
        "X_train = sc_X.fit_transform(X_train)\n",
        "X_test = sc_X.transform(X_test)\n",
        "X_val = sc_X.transform(X_val)"
      ],
      "metadata": {
        "id": "RLf0nmwyWWGV"
      },
      "execution_count": null,
      "outputs": []
    },
    {
      "cell_type": "code",
      "source": [
        "# Transformation of the input variables from 2-dimensional to 3-dimensional to make them applicable to the CNN\n",
        "sample_size = X_train.shape[0] # number of samples in the data set\n",
        "time_steps  = X_train.shape[1] # number of attributes in the dataset\n",
        "input_dimension = 1            #\n",
        "\n",
        "X_train_reshaped = X_train.reshape(sample_size,time_steps,input_dimension)\n",
        "X_test_reshaped = X_test.reshape(X_test.shape[0],X_test.shape[1],1)\n",
        "X_val_reshaped = X_val.reshape(X_val.shape[0],X_val.shape[1],1)\n",
        "n_timesteps = X_train_reshaped.shape[1] #\n",
        "n_features  = X_train_reshaped.shape[2] #"
      ],
      "metadata": {
        "id": "2hqpniAEWWD3"
      },
      "execution_count": null,
      "outputs": []
    },
    {
      "cell_type": "markdown",
      "source": [
        "# 2 - Keras Tuner"
      ],
      "metadata": {
        "id": "nVaKK-I0XksJ"
      }
    },
    {
      "cell_type": "code",
      "source": [
        "def build_model(hp):\n",
        "    model = keras.Sequential()\n",
        "    #input layer\n",
        "    model.add(\n",
        "        layers.Conv1D(\n",
        "            filters=hp.Int(\"conv_filters\", min_value=32, max_value=128, step=16),\n",
        "            kernel_size=hp.Int(\"conv_kernel\", min_value=2, max_value=11),\n",
        "            activation=\"relu\",\n",
        "            input_shape=(n_timesteps,n_features),\n",
        "        )\n",
        "    )\n",
        "    ######\n",
        "    if hp.Boolean(\"maxpooling\"):\n",
        "        model.add(MaxPooling1D(pool_size=2))\n",
        "    ######\n",
        "    # Calculate optimal number of hidden convolutional layers\n",
        "    num_hidden_layers = hp.Int('num_hidden_layers', min_value=1, max_value=5)\n",
        "    for i in range(num_hidden_layers):\n",
        "      model.add(\n",
        "          layers.Conv1D(filters=hp.Int(f\"conv_filters_{i}\", min_value=32, max_value=128, step=16),\n",
        "          kernel_size=hp.Int(f\"conv_kernel_{i}\", min_value=2, max_value=11),\n",
        "          activation=\"relu\",))\n",
        "      if hp.Boolean(f\"maxpooling_{i}\"):\n",
        "        model.add(MaxPooling1D(pool_size=2))\n",
        "\n",
        "    model.add(layers.Flatten())\n",
        "    model.add(Dropout(0.5))\n",
        "    #Calculate optimal number of hidden convolutional layers\n",
        "    num_hidden_dense_layers = hp.Int('num_hidden_dense_layers', min_value=1, max_value=5)\n",
        "    for i in range(num_hidden_dense_layers):\n",
        "        model.add(layers.Dense(units=hp.Int(f'units_{i}', min_value=16, max_value=256, step=16),\n",
        "                                activation='relu'))\n",
        "\n",
        "    #output layer\n",
        "    model.add(layers.Dense(2, activation=\"sigmoid\"))\n",
        "\n",
        "    model.compile(\n",
        "        loss=\"binary_crossentropy\",\n",
        "        optimizer=keras.optimizers.Adam(\n",
        "            hp.Choice(\"learning_rate\", values=[1e-3, 1e-4])\n",
        "        ),\n",
        "        metrics=METRICS,\n",
        "    )\n",
        "    return model"
      ],
      "metadata": {
        "id": "rQqgZuCDWWB2"
      },
      "execution_count": null,
      "outputs": []
    },
    {
      "cell_type": "code",
      "source": [
        "tuner = BayesianOptimization(\n",
        "    build_model,\n",
        "    objective=Objective(\"val_f1_score\", direction=\"max\"),\n",
        "    max_trials=20,\n",
        "    executions_per_trial=15,\n",
        "    directory=\"hyperparameter_search\",\n",
        "    project_name=\"e_coli_multi_label_bin2_2000da_10000da\",\n",
        "    overwrite=False,\n",
        ")"
      ],
      "metadata": {
        "id": "bENTFZocWV_X",
        "colab": {
          "base_uri": "https://localhost:8080/"
        },
        "outputId": "9bfec0c0-670d-4733-a7fc-605ede921917"
      },
      "execution_count": null,
      "outputs": [
        {
          "output_type": "stream",
          "name": "stdout",
          "text": [
            "INFO:tensorflow:Reloading Tuner from hyperparameter_search/e_coli_multi_label_bin2_2000da_10000da/tuner0.json\n"
          ]
        }
      ]
    },
    {
      "cell_type": "code",
      "source": [
        "#Calbacks\n",
        "reduce_lr = ReduceLROnPlateau(monitor='val_f1_score', factor=0.1, patience=3, min_lr=0.0000001, mode=\"max\")\n",
        "early_st = EarlyStopping(monitor='val_f1_score', patience=10, restore_best_weights=True, mode=\"max\")"
      ],
      "metadata": {
        "id": "0CMDMkf_rNDO"
      },
      "execution_count": null,
      "outputs": []
    },
    {
      "cell_type": "code",
      "source": [
        "tuner.search(X_train, y_train, verbose=0, epochs=100, validation_data=[X_val, y_val],callbacks=[reduce_lr, early_st])"
      ],
      "metadata": {
        "colab": {
          "base_uri": "https://localhost:8080/"
        },
        "id": "a9K8pO67cKV3",
        "outputId": "c4818f60-4665-43bb-a0e4-f54ceb5f0cda"
      },
      "execution_count": null,
      "outputs": [
        {
          "output_type": "stream",
          "name": "stdout",
          "text": [
            "INFO:tensorflow:Oracle triggered exit\n"
          ]
        }
      ]
    },
    {
      "cell_type": "code",
      "source": [
        "tuner.results_summary()"
      ],
      "metadata": {
        "id": "rkgqd3P2hdiz",
        "colab": {
          "base_uri": "https://localhost:8080/"
        },
        "outputId": "0260b4b1-70ba-45f8-f864-81d00406becd"
      },
      "execution_count": null,
      "outputs": [
        {
          "output_type": "stream",
          "name": "stdout",
          "text": [
            "Results summary\n",
            "Results in hyperparameter_search/e_coli_multi_label_bin2_2000da_10000da\n",
            "Showing 10 best trials\n",
            "Objective(name=\"val_f1_score\", direction=\"max\")\n",
            "\n",
            "Trial 08 summary\n",
            "Hyperparameters:\n",
            "conv_filters: 64\n",
            "conv_kernel: 8\n",
            "maxpooling: True\n",
            "num_hidden_layers: 3\n",
            "conv_filters_0: 80\n",
            "conv_kernel_0: 7\n",
            "maxpooling_0: True\n",
            "num_hidden_dense_layers: 3\n",
            "units_0: 144\n",
            "learning_rate: 0.0001\n",
            "conv_filters_1: 32\n",
            "conv_kernel_1: 11\n",
            "maxpooling_1: True\n",
            "conv_filters_2: 80\n",
            "conv_kernel_2: 2\n",
            "maxpooling_2: True\n",
            "conv_filters_3: 128\n",
            "conv_kernel_3: 8\n",
            "maxpooling_3: True\n",
            "conv_filters_4: 80\n",
            "conv_kernel_4: 11\n",
            "maxpooling_4: True\n",
            "units_1: 144\n",
            "units_2: 192\n",
            "units_3: 224\n",
            "Score: 0.4561181445916494\n",
            "\n",
            "Trial 04 summary\n",
            "Hyperparameters:\n",
            "conv_filters: 96\n",
            "conv_kernel: 2\n",
            "maxpooling: True\n",
            "num_hidden_layers: 4\n",
            "conv_filters_0: 64\n",
            "conv_kernel_0: 9\n",
            "maxpooling_0: True\n",
            "num_hidden_dense_layers: 2\n",
            "units_0: 192\n",
            "learning_rate: 0.001\n",
            "conv_filters_1: 64\n",
            "conv_kernel_1: 3\n",
            "maxpooling_1: False\n",
            "conv_filters_2: 112\n",
            "conv_kernel_2: 8\n",
            "maxpooling_2: True\n",
            "conv_filters_3: 112\n",
            "conv_kernel_3: 5\n",
            "maxpooling_3: False\n",
            "conv_filters_4: 48\n",
            "conv_kernel_4: 6\n",
            "maxpooling_4: True\n",
            "units_1: 48\n",
            "units_2: 256\n",
            "units_3: 176\n",
            "Score: 0.4514314870039622\n",
            "\n",
            "Trial 03 summary\n",
            "Hyperparameters:\n",
            "conv_filters: 112\n",
            "conv_kernel: 2\n",
            "maxpooling: False\n",
            "num_hidden_layers: 2\n",
            "conv_filters_0: 48\n",
            "conv_kernel_0: 6\n",
            "maxpooling_0: False\n",
            "num_hidden_dense_layers: 4\n",
            "units_0: 112\n",
            "learning_rate: 0.0001\n",
            "conv_filters_1: 32\n",
            "conv_kernel_1: 9\n",
            "maxpooling_1: False\n",
            "conv_filters_2: 96\n",
            "conv_kernel_2: 11\n",
            "maxpooling_2: True\n",
            "conv_filters_3: 112\n",
            "conv_kernel_3: 7\n",
            "maxpooling_3: True\n",
            "conv_filters_4: 64\n",
            "conv_kernel_4: 7\n",
            "maxpooling_4: False\n",
            "units_1: 192\n",
            "units_2: 16\n",
            "units_3: 16\n",
            "Score: 0.4507619023323059\n",
            "\n",
            "Trial 13 summary\n",
            "Hyperparameters:\n",
            "conv_filters: 64\n",
            "conv_kernel: 5\n",
            "maxpooling: True\n",
            "num_hidden_layers: 2\n",
            "conv_filters_0: 64\n",
            "conv_kernel_0: 11\n",
            "maxpooling_0: True\n",
            "num_hidden_dense_layers: 3\n",
            "units_0: 96\n",
            "learning_rate: 0.001\n",
            "conv_filters_1: 128\n",
            "conv_kernel_1: 11\n",
            "maxpooling_1: True\n",
            "conv_filters_2: 80\n",
            "conv_kernel_2: 9\n",
            "maxpooling_2: True\n",
            "conv_filters_3: 96\n",
            "conv_kernel_3: 9\n",
            "maxpooling_3: False\n",
            "conv_filters_4: 96\n",
            "conv_kernel_4: 8\n",
            "maxpooling_4: True\n",
            "units_1: 16\n",
            "units_2: 176\n",
            "units_3: 64\n",
            "units_4: 48\n",
            "Score: 0.44953290224075315\n",
            "\n",
            "Trial 17 summary\n",
            "Hyperparameters:\n",
            "conv_filters: 80\n",
            "conv_kernel: 3\n",
            "maxpooling: False\n",
            "num_hidden_layers: 4\n",
            "conv_filters_0: 48\n",
            "conv_kernel_0: 2\n",
            "maxpooling_0: False\n",
            "num_hidden_dense_layers: 4\n",
            "units_0: 192\n",
            "learning_rate: 0.0001\n",
            "conv_filters_1: 48\n",
            "conv_kernel_1: 6\n",
            "maxpooling_1: False\n",
            "conv_filters_2: 128\n",
            "conv_kernel_2: 6\n",
            "maxpooling_2: False\n",
            "conv_filters_3: 96\n",
            "conv_kernel_3: 7\n",
            "maxpooling_3: False\n",
            "conv_filters_4: 112\n",
            "conv_kernel_4: 7\n",
            "maxpooling_4: False\n",
            "units_1: 112\n",
            "units_2: 192\n",
            "units_3: 240\n",
            "units_4: 128\n",
            "Score: 0.44753198424975077\n",
            "\n",
            "Trial 19 summary\n",
            "Hyperparameters:\n",
            "conv_filters: 32\n",
            "conv_kernel: 11\n",
            "maxpooling: False\n",
            "num_hidden_layers: 3\n",
            "conv_filters_0: 48\n",
            "conv_kernel_0: 11\n",
            "maxpooling_0: True\n",
            "num_hidden_dense_layers: 3\n",
            "units_0: 224\n",
            "learning_rate: 0.001\n",
            "conv_filters_1: 96\n",
            "conv_kernel_1: 7\n",
            "maxpooling_1: False\n",
            "conv_filters_2: 64\n",
            "conv_kernel_2: 5\n",
            "maxpooling_2: False\n",
            "conv_filters_3: 80\n",
            "conv_kernel_3: 3\n",
            "maxpooling_3: False\n",
            "conv_filters_4: 96\n",
            "conv_kernel_4: 4\n",
            "maxpooling_4: True\n",
            "units_1: 144\n",
            "units_2: 128\n",
            "units_3: 144\n",
            "units_4: 192\n",
            "Score: 0.4466588318347931\n",
            "\n",
            "Trial 10 summary\n",
            "Hyperparameters:\n",
            "conv_filters: 128\n",
            "conv_kernel: 5\n",
            "maxpooling: False\n",
            "num_hidden_layers: 4\n",
            "conv_filters_0: 48\n",
            "conv_kernel_0: 6\n",
            "maxpooling_0: False\n",
            "num_hidden_dense_layers: 4\n",
            "units_0: 208\n",
            "learning_rate: 0.0001\n",
            "conv_filters_1: 80\n",
            "conv_kernel_1: 9\n",
            "maxpooling_1: True\n",
            "conv_filters_2: 64\n",
            "conv_kernel_2: 5\n",
            "maxpooling_2: True\n",
            "conv_filters_3: 64\n",
            "conv_kernel_3: 6\n",
            "maxpooling_3: True\n",
            "conv_filters_4: 96\n",
            "conv_kernel_4: 2\n",
            "maxpooling_4: False\n",
            "units_1: 48\n",
            "units_2: 64\n",
            "units_3: 224\n",
            "Score: 0.4466131826241811\n",
            "\n",
            "Trial 14 summary\n",
            "Hyperparameters:\n",
            "conv_filters: 48\n",
            "conv_kernel: 2\n",
            "maxpooling: False\n",
            "num_hidden_layers: 3\n",
            "conv_filters_0: 80\n",
            "conv_kernel_0: 10\n",
            "maxpooling_0: False\n",
            "num_hidden_dense_layers: 4\n",
            "units_0: 224\n",
            "learning_rate: 0.0001\n",
            "conv_filters_1: 112\n",
            "conv_kernel_1: 3\n",
            "maxpooling_1: False\n",
            "conv_filters_2: 64\n",
            "conv_kernel_2: 5\n",
            "maxpooling_2: False\n",
            "conv_filters_3: 80\n",
            "conv_kernel_3: 11\n",
            "maxpooling_3: True\n",
            "conv_filters_4: 112\n",
            "conv_kernel_4: 7\n",
            "maxpooling_4: True\n",
            "units_1: 96\n",
            "units_2: 160\n",
            "units_3: 16\n",
            "units_4: 176\n",
            "Score: 0.4449805200099945\n",
            "\n",
            "Trial 07 summary\n",
            "Hyperparameters:\n",
            "conv_filters: 64\n",
            "conv_kernel: 4\n",
            "maxpooling: False\n",
            "num_hidden_layers: 5\n",
            "conv_filters_0: 64\n",
            "conv_kernel_0: 6\n",
            "maxpooling_0: False\n",
            "num_hidden_dense_layers: 1\n",
            "units_0: 256\n",
            "learning_rate: 0.001\n",
            "conv_filters_1: 112\n",
            "conv_kernel_1: 10\n",
            "maxpooling_1: True\n",
            "conv_filters_2: 128\n",
            "conv_kernel_2: 11\n",
            "maxpooling_2: True\n",
            "conv_filters_3: 112\n",
            "conv_kernel_3: 5\n",
            "maxpooling_3: False\n",
            "conv_filters_4: 96\n",
            "conv_kernel_4: 4\n",
            "maxpooling_4: False\n",
            "units_1: 32\n",
            "units_2: 176\n",
            "units_3: 160\n",
            "Score: 0.44144534269968666\n",
            "\n",
            "Trial 15 summary\n",
            "Hyperparameters:\n",
            "conv_filters: 96\n",
            "conv_kernel: 11\n",
            "maxpooling: True\n",
            "num_hidden_layers: 2\n",
            "conv_filters_0: 112\n",
            "conv_kernel_0: 3\n",
            "maxpooling_0: True\n",
            "num_hidden_dense_layers: 2\n",
            "units_0: 192\n",
            "learning_rate: 0.001\n",
            "conv_filters_1: 48\n",
            "conv_kernel_1: 6\n",
            "maxpooling_1: False\n",
            "conv_filters_2: 48\n",
            "conv_kernel_2: 3\n",
            "maxpooling_2: True\n",
            "conv_filters_3: 32\n",
            "conv_kernel_3: 4\n",
            "maxpooling_3: False\n",
            "conv_filters_4: 112\n",
            "conv_kernel_4: 3\n",
            "maxpooling_4: True\n",
            "units_1: 144\n",
            "units_2: 64\n",
            "units_3: 112\n",
            "units_4: 96\n",
            "Score: 0.4412806034088135\n"
          ]
        }
      ]
    },
    {
      "cell_type": "code",
      "source": [
        "best_model = tuner.get_best_models(num_models=1)[0]\n",
        "best_model.summary()"
      ],
      "metadata": {
        "id": "vI-zgqsFhdgV",
        "colab": {
          "base_uri": "https://localhost:8080/"
        },
        "outputId": "670b21d7-5abc-4f51-d13e-b739654b9efc"
      },
      "execution_count": null,
      "outputs": [
        {
          "output_type": "stream",
          "name": "stdout",
          "text": [
            "Model: \"sequential\"\n",
            "_________________________________________________________________\n",
            " Layer (type)                Output Shape              Param #   \n",
            "=================================================================\n",
            " conv1d (Conv1D)             (None, 3993, 64)          576       \n",
            "                                                                 \n",
            " max_pooling1d (MaxPooling1  (None, 1996, 64)          0         \n",
            " D)                                                              \n",
            "                                                                 \n",
            " conv1d_1 (Conv1D)           (None, 1990, 80)          35920     \n",
            "                                                                 \n",
            " max_pooling1d_1 (MaxPoolin  (None, 995, 80)           0         \n",
            " g1D)                                                            \n",
            "                                                                 \n",
            " conv1d_2 (Conv1D)           (None, 985, 32)           28192     \n",
            "                                                                 \n",
            " max_pooling1d_2 (MaxPoolin  (None, 492, 32)           0         \n",
            " g1D)                                                            \n",
            "                                                                 \n",
            " conv1d_3 (Conv1D)           (None, 491, 80)           5200      \n",
            "                                                                 \n",
            " max_pooling1d_3 (MaxPoolin  (None, 245, 80)           0         \n",
            " g1D)                                                            \n",
            "                                                                 \n",
            " flatten (Flatten)           (None, 19600)             0         \n",
            "                                                                 \n",
            " dropout (Dropout)           (None, 19600)             0         \n",
            "                                                                 \n",
            " dense (Dense)               (None, 144)               2822544   \n",
            "                                                                 \n",
            " dense_1 (Dense)             (None, 144)               20880     \n",
            "                                                                 \n",
            " dense_2 (Dense)             (None, 192)               27840     \n",
            "                                                                 \n",
            " dense_3 (Dense)             (None, 2)                 386       \n",
            "                                                                 \n",
            "=================================================================\n",
            "Total params: 2941538 (11.22 MB)\n",
            "Trainable params: 2941538 (11.22 MB)\n",
            "Non-trainable params: 0 (0.00 Byte)\n",
            "_________________________________________________________________\n"
          ]
        }
      ]
    },
    {
      "cell_type": "markdown",
      "source": [
        "## 2.1 - Optimized model test"
      ],
      "metadata": {
        "id": "NEWQEDHzqdv-"
      }
    },
    {
      "cell_type": "code",
      "source": [
        "model = Sequential(name=\"e_coli_optimized_model\")\n",
        "\n",
        "model.add(Conv1D(filters=(64), kernel_size=(8), input_shape = (n_timesteps,n_features), name='Conv_1'))\n",
        "\n",
        "model.add(Activation('relu'))\n",
        "model.add(MaxPooling1D(pool_size=2, name=\"MaxPooling1D\"))\n",
        "\n",
        "model.add(Conv1D(filters=(80), kernel_size=(7),  name='Conv_2'))\n",
        "\n",
        "model.add(Activation('relu'))\n",
        "model.add(MaxPooling1D(pool_size=2, name=\"MaxPooling1D1\"))\n",
        "\n",
        "model.add(Conv1D(filters=(32), kernel_size=(11),   name='Conv_3'))\n",
        "\n",
        "model.add(Activation('relu'))\n",
        "model.add(MaxPooling1D(pool_size=2, name=\"MaxPooling1D2\"))\n",
        "\n",
        "model.add(Conv1D(filters=(80), kernel_size=(2),   name='Conv_3l'))\n",
        "\n",
        "model.add(Activation('relu'))\n",
        "model.add(MaxPooling1D(pool_size=2, name=\"MaxPooling1D2dl\"))\n",
        "\n",
        "model.add(Flatten())\n",
        "model.add(Dropout(0.5))\n",
        "model.add(Dense(144, activation='relu', name=\"fully_connected_1\"))\n",
        "model.add(Dense(144, activation='relu',  name=\"fully_connected_2\"))\n",
        "model.add(Dense(192, activation='relu',  name=\"fully_connected_22\"))\n",
        "model.add(Dense(2, activation='sigmoid', name=\"OUT_Layer\"))\n"
      ],
      "metadata": {
        "id": "UAsVYUpdhdbe"
      },
      "execution_count": null,
      "outputs": []
    },
    {
      "cell_type": "code",
      "source": [
        "reduce_lr = ReduceLROnPlateau(monitor='val_loss', factor=0.1, patience=3, min_lr=0.0000001)\n",
        "early_st = EarlyStopping(monitor='val_loss', patience=6, restore_best_weights=True)\n",
        "adamw_optim = tf.keras.optimizers.experimental.AdamW(weight_decay=0.001, learning_rate=0.0001)"
      ],
      "metadata": {
        "id": "AF7ZDJqXhdP6"
      },
      "execution_count": null,
      "outputs": []
    },
    {
      "cell_type": "code",
      "source": [
        "model.compile(optimizer = Adam(learning_rate=0.0001), loss = 'binary_crossentropy', metrics=METRICS)\n",
        "model.summary()"
      ],
      "metadata": {
        "id": "SebGFSNOqxBg",
        "colab": {
          "base_uri": "https://localhost:8080/"
        },
        "outputId": "d18ba206-41da-48dc-acf2-d3cffb268a19"
      },
      "execution_count": null,
      "outputs": [
        {
          "output_type": "stream",
          "name": "stdout",
          "text": [
            "Model: \"Modelo_e_coli_multi_label_optimizado\"\n",
            "_________________________________________________________________\n",
            " Layer (type)                Output Shape              Param #   \n",
            "=================================================================\n",
            " Conv_1 (Conv1D)             (None, 3993, 64)          576       \n",
            "                                                                 \n",
            " activation (Activation)     (None, 3993, 64)          0         \n",
            "                                                                 \n",
            " MaxPooling1D (MaxPooling1D  (None, 1996, 64)          0         \n",
            " )                                                               \n",
            "                                                                 \n",
            " Conv_2 (Conv1D)             (None, 1990, 80)          35920     \n",
            "                                                                 \n",
            " activation_1 (Activation)   (None, 1990, 80)          0         \n",
            "                                                                 \n",
            " MaxPooling1D1 (MaxPooling1  (None, 995, 80)           0         \n",
            " D)                                                              \n",
            "                                                                 \n",
            " Conv_3 (Conv1D)             (None, 985, 32)           28192     \n",
            "                                                                 \n",
            " activation_2 (Activation)   (None, 985, 32)           0         \n",
            "                                                                 \n",
            " MaxPooling1D2 (MaxPooling1  (None, 492, 32)           0         \n",
            " D)                                                              \n",
            "                                                                 \n",
            " Conv_3l (Conv1D)            (None, 491, 80)           5200      \n",
            "                                                                 \n",
            " activation_3 (Activation)   (None, 491, 80)           0         \n",
            "                                                                 \n",
            " MaxPooling1D2dl (MaxPoolin  (None, 245, 80)           0         \n",
            " g1D)                                                            \n",
            "                                                                 \n",
            " flatten_1 (Flatten)         (None, 19600)             0         \n",
            "                                                                 \n",
            " dropout_1 (Dropout)         (None, 19600)             0         \n",
            "                                                                 \n",
            " fully_connected_1 (Dense)   (None, 144)               2822544   \n",
            "                                                                 \n",
            " fully_connected_2 (Dense)   (None, 144)               20880     \n",
            "                                                                 \n",
            " fully_connected_22 (Dense)  (None, 192)               27840     \n",
            "                                                                 \n",
            " OUT_Layer (Dense)           (None, 2)                 386       \n",
            "                                                                 \n",
            "=================================================================\n",
            "Total params: 2941538 (11.22 MB)\n",
            "Trainable params: 2941538 (11.22 MB)\n",
            "Non-trainable params: 0 (0.00 Byte)\n",
            "_________________________________________________________________\n"
          ]
        }
      ]
    },
    {
      "cell_type": "code",
      "source": [
        "history = model.fit(X_train, y_train, epochs=150, batch_size=32, verbose=2, validation_data=[X_val, y_val], callbacks=[early_st,reduce_lr])"
      ],
      "metadata": {
        "id": "H9_goK_V1gFm",
        "colab": {
          "base_uri": "https://localhost:8080/"
        },
        "outputId": "b791cd95-0de4-4b81-e172-3f9796a61985"
      },
      "execution_count": null,
      "outputs": [
        {
          "output_type": "stream",
          "name": "stdout",
          "text": [
            "Epoch 1/150\n"
          ]
        },
        {
          "output_type": "stream",
          "name": "stderr",
          "text": [
            "2023-09-23 20:24:30.958932: I tensorflow/compiler/xla/stream_executor/cuda/cuda_dnn.cc:432] Loaded cuDNN version 8800\n",
            "2023-09-23 20:24:32.406777: I tensorflow/tsl/platform/default/subprocess.cc:304] Start cannot spawn child process: No such file or directory\n",
            "2023-09-23 20:24:32.741975: I tensorflow/compiler/xla/stream_executor/cuda/cuda_blas.cc:606] TensorFloat-32 will be used for the matrix multiplication. This will only be logged once.\n",
            "2023-09-23 20:24:33.290275: I tensorflow/compiler/xla/service/service.cc:168] XLA service 0x26f972e0 initialized for platform CUDA (this does not guarantee that XLA will be used). Devices:\n",
            "2023-09-23 20:24:33.290346: I tensorflow/compiler/xla/service/service.cc:176]   StreamExecutor device (0): NVIDIA RTX A4000, Compute Capability 8.6\n",
            "2023-09-23 20:24:33.807499: I tensorflow/compiler/mlir/tensorflow/utils/dump_mlir_util.cc:255] disabling MLIR crash reproducer, set env var `MLIR_CRASH_REPRODUCER_DIRECTORY` to enable.\n",
            "2023-09-23 20:24:34.417783: I tensorflow/tsl/platform/default/subprocess.cc:304] Start cannot spawn child process: No such file or directory\n",
            "2023-09-23 20:24:34.610123: I ./tensorflow/compiler/jit/device_compiler.h:186] Compiled cluster using XLA!  This line is logged at most once for the lifetime of the process.\n"
          ]
        },
        {
          "output_type": "stream",
          "name": "stdout",
          "text": [
            "110/110 - 15s - loss: 0.5853 - tp: 7.0000 - fp: 15.0000 - tn: 5192.0000 - fn: 1784.0000 - accuracy: 0.7429 - precision: 0.3182 - recall: 0.0039 - auc: 0.4731 - prc: 0.2489 - f1_score: 0.2357 - val_loss: 0.5663 - val_tp: 0.0000e+00 - val_fp: 0.0000e+00 - val_tn: 579.0000 - val_fn: 199.0000 - val_accuracy: 0.7442 - val_precision: 0.0000e+00 - val_recall: 0.0000e+00 - val_auc: 0.5189 - val_prc: 0.2689 - val_f1_score: 0.2297 - lr: 1.0000e-04 - 15s/epoch - 137ms/step\n",
            "Epoch 2/150\n",
            "110/110 - 2s - loss: 0.5578 - tp: 0.0000e+00 - fp: 1.0000 - tn: 5206.0000 - fn: 1791.0000 - accuracy: 0.7439 - precision: 0.0000e+00 - recall: 0.0000e+00 - auc: 0.5729 - prc: 0.3073 - f1_score: 0.2449 - val_loss: 0.5630 - val_tp: 0.0000e+00 - val_fp: 0.0000e+00 - val_tn: 579.0000 - val_fn: 199.0000 - val_accuracy: 0.7442 - val_precision: 0.0000e+00 - val_recall: 0.0000e+00 - val_auc: 0.5515 - val_prc: 0.2846 - val_f1_score: 0.2302 - lr: 1.0000e-04 - 2s/epoch - 18ms/step\n",
            "Epoch 3/150\n",
            "110/110 - 2s - loss: 0.5465 - tp: 6.0000 - fp: 7.0000 - tn: 5200.0000 - fn: 1785.0000 - accuracy: 0.7439 - precision: 0.4615 - recall: 0.0034 - auc: 0.6265 - prc: 0.3456 - f1_score: 0.2564 - val_loss: 0.5460 - val_tp: 0.0000e+00 - val_fp: 0.0000e+00 - val_tn: 579.0000 - val_fn: 199.0000 - val_accuracy: 0.7442 - val_precision: 0.0000e+00 - val_recall: 0.0000e+00 - val_auc: 0.6298 - val_prc: 0.3752 - val_f1_score: 0.2302 - lr: 1.0000e-04 - 2s/epoch - 18ms/step\n",
            "Epoch 4/150\n",
            "110/110 - 2s - loss: 0.5299 - tp: 77.0000 - fp: 76.0000 - tn: 5131.0000 - fn: 1714.0000 - accuracy: 0.7442 - precision: 0.5033 - recall: 0.0430 - auc: 0.6703 - prc: 0.4155 - f1_score: 0.3010 - val_loss: 0.5221 - val_tp: 6.0000 - val_fp: 3.0000 - val_tn: 576.0000 - val_fn: 193.0000 - val_accuracy: 0.7481 - val_precision: 0.6667 - val_recall: 0.0302 - val_auc: 0.6912 - val_prc: 0.4867 - val_f1_score: 0.3203 - lr: 1.0000e-04 - 2s/epoch - 18ms/step\n",
            "Epoch 5/150\n",
            "110/110 - 2s - loss: 0.5093 - tp: 323.0000 - fp: 167.0000 - tn: 5040.0000 - fn: 1468.0000 - accuracy: 0.7664 - precision: 0.6592 - recall: 0.1803 - auc: 0.7024 - prc: 0.4821 - f1_score: 0.3880 - val_loss: 0.5361 - val_tp: 5.0000 - val_fp: 2.0000 - val_tn: 577.0000 - val_fn: 194.0000 - val_accuracy: 0.7481 - val_precision: 0.7143 - val_recall: 0.0251 - val_auc: 0.7126 - val_prc: 0.5411 - val_f1_score: 0.2421 - lr: 1.0000e-04 - 2s/epoch - 18ms/step\n",
            "Epoch 6/150\n",
            "110/110 - 2s - loss: 0.4810 - tp: 509.0000 - fp: 201.0000 - tn: 5006.0000 - fn: 1282.0000 - accuracy: 0.7881 - precision: 0.7169 - recall: 0.2842 - auc: 0.7382 - prc: 0.5550 - f1_score: 0.4314 - val_loss: 0.5297 - val_tp: 85.0000 - val_fp: 80.0000 - val_tn: 499.0000 - val_fn: 114.0000 - val_accuracy: 0.7506 - val_precision: 0.5152 - val_recall: 0.4271 - val_auc: 0.7154 - val_prc: 0.5211 - val_f1_score: 0.4106 - lr: 1.0000e-04 - 2s/epoch - 18ms/step\n",
            "Epoch 7/150\n",
            "110/110 - 2s - loss: 0.4738 - tp: 603.0000 - fp: 272.0000 - tn: 4935.0000 - fn: 1188.0000 - accuracy: 0.7914 - precision: 0.6891 - recall: 0.3367 - auc: 0.7470 - prc: 0.5726 - f1_score: 0.4539 - val_loss: 0.4606 - val_tp: 60.0000 - val_fp: 11.0000 - val_tn: 568.0000 - val_fn: 139.0000 - val_accuracy: 0.8072 - val_precision: 0.8451 - val_recall: 0.3015 - val_auc: 0.7623 - val_prc: 0.6107 - val_f1_score: 0.4408 - lr: 1.0000e-04 - 2s/epoch - 18ms/step\n",
            "Epoch 8/150\n",
            "110/110 - 2s - loss: 0.4497 - tp: 661.0000 - fp: 203.0000 - tn: 5004.0000 - fn: 1130.0000 - accuracy: 0.8095 - precision: 0.7650 - recall: 0.3691 - auc: 0.7736 - prc: 0.6188 - f1_score: 0.4513 - val_loss: 0.4572 - val_tp: 68.0000 - val_fp: 15.0000 - val_tn: 564.0000 - val_fn: 131.0000 - val_accuracy: 0.8123 - val_precision: 0.8193 - val_recall: 0.3417 - val_auc: 0.7689 - val_prc: 0.6152 - val_f1_score: 0.4341 - lr: 1.0000e-04 - 2s/epoch - 19ms/step\n",
            "Epoch 9/150\n",
            "110/110 - 2s - loss: 0.4390 - tp: 711.0000 - fp: 232.0000 - tn: 4975.0000 - fn: 1080.0000 - accuracy: 0.8125 - precision: 0.7540 - recall: 0.3970 - auc: 0.7842 - prc: 0.6452 - f1_score: 0.4662 - val_loss: 0.4554 - val_tp: 74.0000 - val_fp: 20.0000 - val_tn: 559.0000 - val_fn: 125.0000 - val_accuracy: 0.8136 - val_precision: 0.7872 - val_recall: 0.3719 - val_auc: 0.7684 - val_prc: 0.6144 - val_f1_score: 0.4273 - lr: 1.0000e-04 - 2s/epoch - 19ms/step\n",
            "Epoch 10/150\n",
            "110/110 - 2s - loss: 0.4408 - tp: 719.0000 - fp: 223.0000 - tn: 4984.0000 - fn: 1072.0000 - accuracy: 0.8149 - precision: 0.7633 - recall: 0.4015 - auc: 0.7798 - prc: 0.6372 - f1_score: 0.4621 - val_loss: 0.4725 - val_tp: 96.0000 - val_fp: 56.0000 - val_tn: 523.0000 - val_fn: 103.0000 - val_accuracy: 0.7956 - val_precision: 0.6316 - val_recall: 0.4824 - val_auc: 0.7603 - val_prc: 0.6096 - val_f1_score: 0.4469 - lr: 1.0000e-04 - 2s/epoch - 18ms/step\n",
            "Epoch 11/150\n",
            "110/110 - 2s - loss: 0.4230 - tp: 759.0000 - fp: 217.0000 - tn: 4990.0000 - fn: 1032.0000 - accuracy: 0.8215 - precision: 0.7777 - recall: 0.4238 - auc: 0.7975 - prc: 0.6712 - f1_score: 0.4667 - val_loss: 0.4418 - val_tp: 66.0000 - val_fp: 11.0000 - val_tn: 568.0000 - val_fn: 133.0000 - val_accuracy: 0.8149 - val_precision: 0.8571 - val_recall: 0.3317 - val_auc: 0.8019 - val_prc: 0.6564 - val_f1_score: 0.4350 - lr: 1.0000e-04 - 2s/epoch - 19ms/step\n",
            "Epoch 12/150\n",
            "110/110 - 2s - loss: 0.4169 - tp: 776.0000 - fp: 214.0000 - tn: 4993.0000 - fn: 1015.0000 - accuracy: 0.8244 - precision: 0.7838 - recall: 0.4333 - auc: 0.8058 - prc: 0.6796 - f1_score: 0.4679 - val_loss: 0.4385 - val_tp: 67.0000 - val_fp: 11.0000 - val_tn: 568.0000 - val_fn: 132.0000 - val_accuracy: 0.8162 - val_precision: 0.8590 - val_recall: 0.3367 - val_auc: 0.7997 - val_prc: 0.6603 - val_f1_score: 0.4371 - lr: 1.0000e-04 - 2s/epoch - 18ms/step\n",
            "Epoch 13/150\n",
            "110/110 - 2s - loss: 0.4078 - tp: 830.0000 - fp: 205.0000 - tn: 5002.0000 - fn: 961.0000 - accuracy: 0.8334 - precision: 0.8019 - recall: 0.4634 - auc: 0.8122 - prc: 0.6999 - f1_score: 0.4669 - val_loss: 0.4304 - val_tp: 68.0000 - val_fp: 10.0000 - val_tn: 569.0000 - val_fn: 131.0000 - val_accuracy: 0.8188 - val_precision: 0.8718 - val_recall: 0.3417 - val_auc: 0.8048 - val_prc: 0.6693 - val_f1_score: 0.4333 - lr: 1.0000e-04 - 2s/epoch - 18ms/step\n",
            "Epoch 14/150\n",
            "110/110 - 2s - loss: 0.3963 - tp: 854.0000 - fp: 212.0000 - tn: 4995.0000 - fn: 937.0000 - accuracy: 0.8358 - precision: 0.8011 - recall: 0.4768 - auc: 0.8266 - prc: 0.7172 - f1_score: 0.4604 - val_loss: 0.4189 - val_tp: 83.0000 - val_fp: 20.0000 - val_tn: 559.0000 - val_fn: 116.0000 - val_accuracy: 0.8252 - val_precision: 0.8058 - val_recall: 0.4171 - val_auc: 0.8213 - val_prc: 0.6873 - val_f1_score: 0.4297 - lr: 1.0000e-04 - 2s/epoch - 18ms/step\n",
            "Epoch 15/150\n",
            "110/110 - 2s - loss: 0.3967 - tp: 853.0000 - fp: 196.0000 - tn: 5011.0000 - fn: 938.0000 - accuracy: 0.8380 - precision: 0.8132 - recall: 0.4763 - auc: 0.8251 - prc: 0.7169 - f1_score: 0.4585 - val_loss: 0.4165 - val_tp: 86.0000 - val_fp: 17.0000 - val_tn: 562.0000 - val_fn: 113.0000 - val_accuracy: 0.8329 - val_precision: 0.8350 - val_recall: 0.4322 - val_auc: 0.8215 - val_prc: 0.6894 - val_f1_score: 0.4321 - lr: 1.0000e-04 - 2s/epoch - 18ms/step\n",
            "Epoch 16/150\n",
            "110/110 - 2s - loss: 0.3895 - tp: 862.0000 - fp: 212.0000 - tn: 4995.0000 - fn: 929.0000 - accuracy: 0.8370 - precision: 0.8026 - recall: 0.4813 - auc: 0.8339 - prc: 0.7244 - f1_score: 0.4602 - val_loss: 0.4089 - val_tp: 77.0000 - val_fp: 14.0000 - val_tn: 565.0000 - val_fn: 122.0000 - val_accuracy: 0.8252 - val_precision: 0.8462 - val_recall: 0.3869 - val_auc: 0.8332 - val_prc: 0.7064 - val_f1_score: 0.4407 - lr: 1.0000e-04 - 2s/epoch - 18ms/step\n",
            "Epoch 17/150\n",
            "110/110 - 2s - loss: 0.3800 - tp: 901.0000 - fp: 215.0000 - tn: 4992.0000 - fn: 890.0000 - accuracy: 0.8421 - precision: 0.8073 - recall: 0.5031 - auc: 0.8419 - prc: 0.7396 - f1_score: 0.4590 - val_loss: 0.4125 - val_tp: 74.0000 - val_fp: 7.0000 - val_tn: 572.0000 - val_fn: 125.0000 - val_accuracy: 0.8303 - val_precision: 0.9136 - val_recall: 0.3719 - val_auc: 0.8334 - val_prc: 0.7109 - val_f1_score: 0.4162 - lr: 1.0000e-04 - 2s/epoch - 18ms/step\n",
            "Epoch 18/150\n",
            "110/110 - 2s - loss: 0.3757 - tp: 905.0000 - fp: 206.0000 - tn: 5001.0000 - fn: 886.0000 - accuracy: 0.8440 - precision: 0.8146 - recall: 0.5053 - auc: 0.8489 - prc: 0.7454 - f1_score: 0.4625 - val_loss: 0.4214 - val_tp: 76.0000 - val_fp: 10.0000 - val_tn: 569.0000 - val_fn: 123.0000 - val_accuracy: 0.8290 - val_precision: 0.8837 - val_recall: 0.3819 - val_auc: 0.8294 - val_prc: 0.7117 - val_f1_score: 0.4263 - lr: 1.0000e-04 - 2s/epoch - 18ms/step\n",
            "Epoch 19/150\n",
            "110/110 - 2s - loss: 0.3655 - tp: 942.0000 - fp: 211.0000 - tn: 4996.0000 - fn: 849.0000 - accuracy: 0.8485 - precision: 0.8170 - recall: 0.5260 - auc: 0.8582 - prc: 0.7597 - f1_score: 0.4629 - val_loss: 0.4239 - val_tp: 70.0000 - val_fp: 8.0000 - val_tn: 571.0000 - val_fn: 129.0000 - val_accuracy: 0.8239 - val_precision: 0.8974 - val_recall: 0.3518 - val_auc: 0.8442 - val_prc: 0.7226 - val_f1_score: 0.4118 - lr: 1.0000e-04 - 2s/epoch - 18ms/step\n",
            "Epoch 20/150\n",
            "110/110 - 2s - loss: 0.3540 - tp: 940.0000 - fp: 190.0000 - tn: 5017.0000 - fn: 851.0000 - accuracy: 0.8512 - precision: 0.8319 - recall: 0.5248 - auc: 0.8686 - prc: 0.7774 - f1_score: 0.4562 - val_loss: 0.3867 - val_tp: 88.0000 - val_fp: 12.0000 - val_tn: 567.0000 - val_fn: 111.0000 - val_accuracy: 0.8419 - val_precision: 0.8800 - val_recall: 0.4422 - val_auc: 0.8567 - val_prc: 0.7461 - val_f1_score: 0.4280 - lr: 1.0000e-05 - 2s/epoch - 17ms/step\n",
            "Epoch 21/150\n",
            "110/110 - 2s - loss: 0.3505 - tp: 954.0000 - fp: 181.0000 - tn: 5026.0000 - fn: 837.0000 - accuracy: 0.8545 - precision: 0.8405 - recall: 0.5327 - auc: 0.8695 - prc: 0.7791 - f1_score: 0.4545 - val_loss: 0.3824 - val_tp: 95.0000 - val_fp: 14.0000 - val_tn: 565.0000 - val_fn: 104.0000 - val_accuracy: 0.8483 - val_precision: 0.8716 - val_recall: 0.4774 - val_auc: 0.8593 - val_prc: 0.7526 - val_f1_score: 0.4316 - lr: 1.0000e-05 - 2s/epoch - 18ms/step\n",
            "Epoch 22/150\n",
            "110/110 - 2s - loss: 0.3479 - tp: 982.0000 - fp: 181.0000 - tn: 5026.0000 - fn: 809.0000 - accuracy: 0.8585 - precision: 0.8444 - recall: 0.5483 - auc: 0.8720 - prc: 0.7855 - f1_score: 0.4636 - val_loss: 0.3817 - val_tp: 97.0000 - val_fp: 16.0000 - val_tn: 563.0000 - val_fn: 102.0000 - val_accuracy: 0.8483 - val_precision: 0.8584 - val_recall: 0.4874 - val_auc: 0.8596 - val_prc: 0.7543 - val_f1_score: 0.4377 - lr: 1.0000e-05 - 2s/epoch - 18ms/step\n",
            "Epoch 23/150\n",
            "110/110 - 2s - loss: 0.3471 - tp: 987.0000 - fp: 192.0000 - tn: 5015.0000 - fn: 804.0000 - accuracy: 0.8577 - precision: 0.8372 - recall: 0.5511 - auc: 0.8744 - prc: 0.7849 - f1_score: 0.4611 - val_loss: 0.3849 - val_tp: 90.0000 - val_fp: 12.0000 - val_tn: 567.0000 - val_fn: 109.0000 - val_accuracy: 0.8445 - val_precision: 0.8824 - val_recall: 0.4523 - val_auc: 0.8595 - val_prc: 0.7514 - val_f1_score: 0.4289 - lr: 1.0000e-05 - 2s/epoch - 18ms/step\n",
            "Epoch 24/150\n",
            "110/110 - 2s - loss: 0.3441 - tp: 986.0000 - fp: 208.0000 - tn: 4999.0000 - fn: 805.0000 - accuracy: 0.8552 - precision: 0.8258 - recall: 0.5505 - auc: 0.8776 - prc: 0.7891 - f1_score: 0.4616 - val_loss: 0.3814 - val_tp: 92.0000 - val_fp: 11.0000 - val_tn: 568.0000 - val_fn: 107.0000 - val_accuracy: 0.8483 - val_precision: 0.8932 - val_recall: 0.4623 - val_auc: 0.8626 - val_prc: 0.7562 - val_f1_score: 0.4280 - lr: 1.0000e-05 - 2s/epoch - 18ms/step\n",
            "Epoch 25/150\n",
            "110/110 - 2s - loss: 0.3477 - tp: 978.0000 - fp: 194.0000 - tn: 5013.0000 - fn: 813.0000 - accuracy: 0.8561 - precision: 0.8345 - recall: 0.5461 - auc: 0.8733 - prc: 0.7826 - f1_score: 0.4592 - val_loss: 0.3791 - val_tp: 96.0000 - val_fp: 12.0000 - val_tn: 567.0000 - val_fn: 103.0000 - val_accuracy: 0.8522 - val_precision: 0.8889 - val_recall: 0.4824 - val_auc: 0.8618 - val_prc: 0.7590 - val_f1_score: 0.4307 - lr: 1.0000e-05 - 2s/epoch - 18ms/step\n",
            "Epoch 26/150\n",
            "110/110 - 2s - loss: 0.3399 - tp: 995.0000 - fp: 181.0000 - tn: 5026.0000 - fn: 796.0000 - accuracy: 0.8604 - precision: 0.8461 - recall: 0.5556 - auc: 0.8799 - prc: 0.7941 - f1_score: 0.4603 - val_loss: 0.3814 - val_tp: 92.0000 - val_fp: 12.0000 - val_tn: 567.0000 - val_fn: 107.0000 - val_accuracy: 0.8470 - val_precision: 0.8846 - val_recall: 0.4623 - val_auc: 0.8633 - val_prc: 0.7584 - val_f1_score: 0.4289 - lr: 1.0000e-05 - 2s/epoch - 18ms/step\n",
            "Epoch 27/150\n",
            "110/110 - 2s - loss: 0.3416 - tp: 982.0000 - fp: 201.0000 - tn: 5006.0000 - fn: 809.0000 - accuracy: 0.8557 - precision: 0.8301 - recall: 0.5483 - auc: 0.8797 - prc: 0.7889 - f1_score: 0.4569 - val_loss: 0.3769 - val_tp: 101.0000 - val_fp: 17.0000 - val_tn: 562.0000 - val_fn: 98.0000 - val_accuracy: 0.8522 - val_precision: 0.8559 - val_recall: 0.5075 - val_auc: 0.8614 - val_prc: 0.7545 - val_f1_score: 0.4315 - lr: 1.0000e-05 - 2s/epoch - 17ms/step\n",
            "Epoch 28/150\n",
            "110/110 - 2s - loss: 0.3451 - tp: 1015.0000 - fp: 203.0000 - tn: 5004.0000 - fn: 776.0000 - accuracy: 0.8601 - precision: 0.8333 - recall: 0.5667 - auc: 0.8763 - prc: 0.7884 - f1_score: 0.4590 - val_loss: 0.3752 - val_tp: 101.0000 - val_fp: 17.0000 - val_tn: 562.0000 - val_fn: 98.0000 - val_accuracy: 0.8522 - val_precision: 0.8559 - val_recall: 0.5075 - val_auc: 0.8650 - val_prc: 0.7593 - val_f1_score: 0.4298 - lr: 1.0000e-05 - 2s/epoch - 18ms/step\n",
            "Epoch 29/150\n",
            "110/110 - 2s - loss: 0.3398 - tp: 1011.0000 - fp: 201.0000 - tn: 5006.0000 - fn: 780.0000 - accuracy: 0.8598 - precision: 0.8342 - recall: 0.5645 - auc: 0.8806 - prc: 0.7932 - f1_score: 0.4581 - val_loss: 0.3795 - val_tp: 93.0000 - val_fp: 11.0000 - val_tn: 568.0000 - val_fn: 106.0000 - val_accuracy: 0.8496 - val_precision: 0.8942 - val_recall: 0.4673 - val_auc: 0.8640 - val_prc: 0.7608 - val_f1_score: 0.4280 - lr: 1.0000e-05 - 2s/epoch - 18ms/step\n",
            "Epoch 30/150\n",
            "110/110 - 2s - loss: 0.3357 - tp: 1005.0000 - fp: 192.0000 - tn: 5015.0000 - fn: 786.0000 - accuracy: 0.8602 - precision: 0.8396 - recall: 0.5611 - auc: 0.8865 - prc: 0.7995 - f1_score: 0.4565 - val_loss: 0.3762 - val_tp: 96.0000 - val_fp: 12.0000 - val_tn: 567.0000 - val_fn: 103.0000 - val_accuracy: 0.8522 - val_precision: 0.8889 - val_recall: 0.4824 - val_auc: 0.8651 - val_prc: 0.7637 - val_f1_score: 0.4289 - lr: 1.0000e-05 - 2s/epoch - 18ms/step\n",
            "Epoch 31/150\n",
            "110/110 - 2s - loss: 0.3365 - tp: 1010.0000 - fp: 190.0000 - tn: 5017.0000 - fn: 781.0000 - accuracy: 0.8612 - precision: 0.8417 - recall: 0.5639 - auc: 0.8819 - prc: 0.7988 - f1_score: 0.4636 - val_loss: 0.3778 - val_tp: 96.0000 - val_fp: 11.0000 - val_tn: 568.0000 - val_fn: 103.0000 - val_accuracy: 0.8535 - val_precision: 0.8972 - val_recall: 0.4824 - val_auc: 0.8642 - val_prc: 0.7628 - val_f1_score: 0.4307 - lr: 1.0000e-05 - 2s/epoch - 18ms/step\n",
            "Epoch 32/150\n",
            "110/110 - 2s - loss: 0.3358 - tp: 1032.0000 - fp: 220.0000 - tn: 4987.0000 - fn: 759.0000 - accuracy: 0.8601 - precision: 0.8243 - recall: 0.5762 - auc: 0.8842 - prc: 0.7979 - f1_score: 0.4598 - val_loss: 0.3779 - val_tp: 96.0000 - val_fp: 11.0000 - val_tn: 568.0000 - val_fn: 103.0000 - val_accuracy: 0.8535 - val_precision: 0.8972 - val_recall: 0.4824 - val_auc: 0.8644 - val_prc: 0.7630 - val_f1_score: 0.4280 - lr: 1.0000e-06 - 2s/epoch - 18ms/step\n",
            "Epoch 33/150\n",
            "110/110 - 2s - loss: 0.3385 - tp: 1010.0000 - fp: 200.0000 - tn: 5007.0000 - fn: 781.0000 - accuracy: 0.8598 - precision: 0.8347 - recall: 0.5639 - auc: 0.8806 - prc: 0.7964 - f1_score: 0.4576 - val_loss: 0.3774 - val_tp: 94.0000 - val_fp: 10.0000 - val_tn: 569.0000 - val_fn: 105.0000 - val_accuracy: 0.8522 - val_precision: 0.9038 - val_recall: 0.4724 - val_auc: 0.8648 - val_prc: 0.7577 - val_f1_score: 0.4280 - lr: 1.0000e-06 - 2s/epoch - 18ms/step\n",
            "Epoch 34/150\n",
            "110/110 - 2s - loss: 0.3348 - tp: 1028.0000 - fp: 202.0000 - tn: 5005.0000 - fn: 763.0000 - accuracy: 0.8621 - precision: 0.8358 - recall: 0.5740 - auc: 0.8839 - prc: 0.7993 - f1_score: 0.4600 - val_loss: 0.3770 - val_tp: 96.0000 - val_fp: 10.0000 - val_tn: 569.0000 - val_fn: 103.0000 - val_accuracy: 0.8548 - val_precision: 0.9057 - val_recall: 0.4824 - val_auc: 0.8649 - val_prc: 0.7574 - val_f1_score: 0.4280 - lr: 1.0000e-06 - 2s/epoch - 18ms/step\n"
          ]
        }
      ]
    },
    {
      "cell_type": "markdown",
      "source": [
        "### 2.1.1 - History plot"
      ],
      "metadata": {
        "id": "SefKYOOF2kdW"
      }
    },
    {
      "cell_type": "code",
      "source": [
        "def plot_history(history):\n",
        "    loss_list = [s for s in history.history.keys() if 'loss' in s and 'val' not in s]\n",
        "    val_loss_list = [s for s in history.history.keys() if 'loss' in s and 'val' in s]\n",
        "    acc_list = [s for s in history.history.keys() if 'acc' in s and 'val' not in s]\n",
        "    val_acc_list = [s for s in history.history.keys() if 'acc' in s and 'val' in s]\n",
        "\n",
        "    if len(loss_list) == 0:\n",
        "        print('Loss is missing in history')\n",
        "        return\n",
        "\n",
        "    epochs = range(1,len(history.history[loss_list[0]]) + 1)\n",
        "    ## Loss\n",
        "    plt.figure(1)\n",
        "    for l in loss_list:\n",
        "        plt.plot(epochs, history.history[l], 'b', label='Training loss (' + str(str(format(history.history[l][-1],'.5f'))+')'))\n",
        "    for l in val_loss_list:\n",
        "        plt.plot(epochs, history.history[l], 'g', label='Validation loss (' + str(str(format(history.history[l][-1],'.5f'))+')'))\n",
        "\n",
        "    plt.title('Loss')\n",
        "    plt.xlabel('Epochs')\n",
        "    plt.ylabel('Loss')\n",
        "    plt.legend()\n",
        "    ## Accuracy\n",
        "    plt.figure(2)\n",
        "    for l in acc_list:\n",
        "        plt.plot(epochs, history.history[l], 'b', label='Training accuracy (' + str(format(history.history[l][-1],'.5f'))+')')\n",
        "    for l in val_acc_list:\n",
        "        plt.plot(epochs, history.history[l], 'g', label='Validation accuracy (' + str(format(history.history[l][-1],'.5f'))+')')\n",
        "\n",
        "    plt.title('Accuracy')\n",
        "    plt.xlabel('Epochs')\n",
        "    plt.ylabel('Accuracy')\n",
        "    plt.legend()\n",
        "    plt.show()"
      ],
      "metadata": {
        "id": "PJKIZ6Oo2pDW"
      },
      "execution_count": null,
      "outputs": []
    },
    {
      "cell_type": "code",
      "source": [
        "plot_history(history)"
      ],
      "metadata": {
        "id": "h_Np-P1A3L8D",
        "colab": {
          "base_uri": "https://localhost:8080/",
          "height": 927
        },
        "outputId": "793c6ca5-53f4-4eb3-d078-2a2defb23005"
      },
      "execution_count": null,
      "outputs": [
        {
          "output_type": "display_data",
          "data": {
            "text/plain": [
              "<Figure size 640x480 with 1 Axes>"
            ],
            "image/png": "[encoded data removed]"
          },
          "metadata": {}
        },
        {
          "output_type": "display_data",
          "data": {
            "text/plain": [
              "<Figure size 640x480 with 1 Axes>"
            ],
            "image/png": "[encoded data removed]"
          },
          "metadata": {}
        }
      ]
    },
    {
      "cell_type": "markdown",
      "source": [
        "## 2.2 - Evaluation of the optimized model"
      ],
      "metadata": {
        "id": "p-2MuG0u1zh6"
      }
    },
    {
      "cell_type": "code",
      "source": [
        "from sklearn.metrics import accuracy_score, precision_score, recall_score, f1_score, roc_auc_score, balanced_accuracy_score, average_precision_score\n",
        "from sklearn.metrics import hamming_loss\n",
        "from sklearn.metrics import jaccard_score\n",
        "\n",
        "y_pred = model.predict(X_test)\n",
        "\n",
        "# Convert predicted and actual labels to binary arrays\n",
        "y_pred_binary = (y_pred > 0.5)\n",
        "y_test_binary = y_test\n",
        "\n",
        "# Calculate accuracy, class accuracy, recall, F1-score and AUC-ROC\n",
        "accuracy = accuracy_score(y_test_binary, y_pred_binary)\n",
        "precision = precision_score(y_test_binary, y_pred_binary, average='weighted')\n",
        "recall = recall_score(y_test_binary, y_pred_binary, average='weighted')\n",
        "f1 = f1_score(y_test_binary, y_pred_binary, average='weighted')\n",
        "auc_roc = roc_auc_score(y_test_binary, y_pred)\n",
        "prc = average_precision_score(y_test_binary, y_pred)\n",
        "los\n",
        "jaccard = jaccard_score(y_test_binary, y_pred_binary, average='weighted')\n",
        "print(\"Hamming loss:\", loss)\n",
        "# Imprimir los resultados\n",
        "print(\"Jaccard score:\", jaccard)\n",
        "print('Accuracy:', accuracy)\n",
        "print('Precision:', precision)\n",
        "print('Recall:', recall)\n",
        "print('F1-score:', f1)\n",
        "print('AUC-ROC:', auc_roc)\n",
        "print('AUC-PRC:', prc)"
      ],
      "metadata": {
        "id": "fd-zPhG413QA",
        "colab": {
          "base_uri": "https://localhost:8080/"
        },
        "outputId": "caa23e52-205a-494b-f548-cb1c591c34c5"
      },
      "execution_count": null,
      "outputs": [
        {
          "output_type": "stream",
          "name": "stdout",
          "text": [
            "31/31 [==============================] - 0s 4ms/step\n",
            "Hamming loss: 0.15432098765432098\n",
            "Jaccard score: 0.47577595405777695\n",
            "Accuracy: 0.7458847736625515\n",
            "Precision: 0.7923148906304831\n",
            "Recall: 0.5421686746987951\n",
            "F1-score: 0.6435332477697737\n",
            "AUC-ROC: 0.84017007009277\n",
            "AUC-PRC: 0.7403776250394293\n"
          ]
        }
      ]
    },
    {
      "cell_type": "code",
      "source": [
        "num_etiquetas = y_test.shape[1]  # Obtén el número de etiquetas\n",
        "auc_scores = []\n",
        "\n",
        "for i in range(num_etiquetas):\n",
        "    auc = roc_auc_score(y_test[:, i], y_pred[:, i])\n",
        "    auc_scores.append(auc)\n",
        "    print(\"AUC label %d: %f\" % (i, auc))"
      ],
      "metadata": {
        "id": "E9TsV5lN13TO",
        "colab": {
          "base_uri": "https://localhost:8080/"
        },
        "outputId": "23250593-efa3-4f30-881f-225573b9933a"
      },
      "execution_count": null,
      "outputs": [
        {
          "output_type": "stream",
          "name": "stdout",
          "text": [
            "AUC Etiqueta 0: 0.802634\n",
            "AUC Etiqueta 1: 0.877706\n"
          ]
        }
      ]
    },
    {
      "cell_type": "code",
      "source": [
        "from sklearn.metrics import f1_score\n",
        "f1_scores = []\n",
        "for i in range(2):\n",
        "    f1 = f1_score(y_test[:, i], y_pred_binary[:, i])\n",
        "    f1_scores.append(f1)\n",
        "    print(\"F1-Score Etiqueta %d: %f\" % (i, f1))\n",
        "\n",
        "# Calcula el promedio del F1-Score\n",
        "f1_scores_avg = np.mean(f1_scores)\n",
        "print(\"F1-Score mean: %f\" % f1_scores_avg)"
      ],
      "metadata": {
        "id": "TuOJ7Bns18fz",
        "colab": {
          "base_uri": "https://localhost:8080/"
        },
        "outputId": "8506baa7-3492-4e9b-d7e6-7f720a001a9b"
      },
      "execution_count": null,
      "outputs": [
        {
          "output_type": "stream",
          "name": "stdout",
          "text": [
            "F1-Score Etiqueta 0: 0.608871\n",
            "F1-Score Etiqueta 1: 0.691860\n",
            "F1-Score Promedio: 0.650366\n"
          ]
        }
      ]
    },
    {
      "cell_type": "markdown",
      "source": [
        "### 2.2.1 - AUROC Y AUPRC plot"
      ],
      "metadata": {
        "id": "vFhzDcmf2QlG"
      }
    },
    {
      "cell_type": "code",
      "source": [
        "mpl.rcParams['figure.figsize'] = (8, 8)\n",
        "mpl.rcParams.update({'font.size': 17})\n",
        "colors = plt.rcParams['axes.prop_cycle'].by_key()['color']"
      ],
      "metadata": {
        "id": "va-dQOLn18dg"
      },
      "execution_count": null,
      "outputs": []
    },
    {
      "cell_type": "code",
      "source": [
        "from sklearn import metrics\n",
        "fpr1, tpr1, _ = metrics.roc_curve(y_test[:, 0], y_pred[:, 0])\n",
        "roc_auc1 = metrics.auc(fpr1, tpr1)\n",
        "fpr2, tpr2, _ = metrics.roc_curve(y_test[:, 1], y_pred[:, 1])\n",
        "roc_auc2 = metrics.auc(fpr2, tpr2)\n",
        "def plot_roc(name, labels, predictions, **kwargs):\n",
        "  fp, tp, _ = sklearn.metrics.roc_curve(labels, predictions)\n",
        "\n",
        "  plt.plot(fp, tp, label=name, linewidth=2, **kwargs)\n",
        "  plt.plot([0, 1], [0, 1], 'k--')\n",
        "  plt.title('AUROC Escherichia coli')\n",
        "  plt.xlabel('False positives [%]')\n",
        "  plt.ylabel('True positives [%]')\n",
        "  #plt.xlim([-0.5,20])\n",
        "  #plt.ylim([80,100.5])\n",
        "  plt.grid(True)\n",
        "  ax = plt.gca()\n",
        "  ax.set_aspect('equal')\n",
        "plot_roc(\"Ciprofloxacin               AUROC: %0.3f\" % roc_auc1 ,y_test[:, 0], y_pred[:, 0], color=colors[0])\n",
        "plot_roc(\"Ceftriaxone                AUROC: %0.3f\" % roc_auc2, y_test[:, 1], y_pred[:, 1], color=colors[1])\n",
        "plt.legend(loc='lower right');"
      ],
      "metadata": {
        "id": "cQKgltWj18ba",
        "colab": {
          "base_uri": "https://localhost:8080/",
          "height": 746
        },
        "outputId": "98ab6fb5-c774-4cc5-96a5-6fcfcf08b79e"
      },
      "execution_count": null,
      "outputs": [
        {
          "output_type": "display_data",
          "data": {
            "text/plain": [
              "<Figure size 800x800 with 1 Axes>"
            ],
            "image/png": "[encoded data removed]"
          },
          "metadata": {}
        }
      ]
    },
    {
      "cell_type": "code",
      "source": [
        "precision1, recall1, _ = sklearn.metrics.precision_recall_curve(y_test[:, 0], y_pred[:, 0])\n",
        "roc_auc1 = metrics.auc(recall1,precision1)\n",
        "precision2, recall2, _ = sklearn.metrics.precision_recall_curve(y_test[:, 1], y_pred[:, 1])\n",
        "roc_auc2 = metrics.auc(recall2,precision2 )\n",
        "def plot_prc(name, labels, predictions, **kwargs):\n",
        "    precision, recall, _ = sklearn.metrics.precision_recall_curve(labels, predictions)\n",
        "\n",
        "    plt.plot(precision, recall, label=name, linewidth=2, **kwargs)\n",
        "    plt.title('AUPRC Escherichia coli')\n",
        "    plt.xlabel('Recall')\n",
        "    plt.ylabel('Precision')\n",
        "    plt.plot([1, 0], [0, 1], 'k--')\n",
        "    plt.grid(True)\n",
        "    ax = plt.gca()\n",
        "    ax.set_aspect('equal')\n",
        "\n",
        "plot_prc(\"Ciprofloxacin        AUPRC: %0.3f\" % roc_auc1, y_test[:, 0], y_pred[:, 0], color=colors[0])\n",
        "plot_prc(\"Ceftriaxone         AUPRC: %0.3f\" % roc_auc2, y_test[:, 1],  y_pred[:, 1], color=colors[1])\n",
        "\n",
        "plt.legend(loc='lower left');"
      ],
      "metadata": {
        "id": "rYVOQV7s18Xr",
        "colab": {
          "base_uri": "https://localhost:8080/",
          "height": 746
        },
        "outputId": "05bfab59-edb3-4741-bd01-7a343edfb88a"
      },
      "execution_count": null,
      "outputs": [
        {
          "output_type": "display_data",
          "data": {
            "text/plain": [
              "<Figure size 800x800 with 1 Axes>"
            ],
            "image/png": "[encoded data removed]"
          },
          "metadata": {}
        }
      ]
    },
    {
      "cell_type": "markdown",
      "source": [
        "# 3 - XGBoost"
      ],
      "metadata": {
        "id": "Gy_PH1Ennpyh"
      }
    },
    {
      "cell_type": "code",
      "source": [
        "import xgboost as xgb\n",
        "from sklearn.metrics import confusion_matrix,classification_report,ConfusionMatrixDisplay, roc_auc_score, average_precision_score\n",
        "from sklearn.multioutput import MultiOutputClassifier\n",
        "from sklearn.metrics import accuracy_score, f1_score, multilabel_confusion_matrix, classification_report, roc_auc_score, average_precision_score, hamming_loss"
      ],
      "metadata": {
        "id": "0crr5Zmcnyfr"
      },
      "execution_count": null,
      "outputs": []
    },
    {
      "cell_type": "code",
      "source": [
        "driams = pd.read_csv('/home/jmanriquez/driams_datasets/e_coli/e_coli_driams_a_bin2_2000_10000Da_v2.csv')\n",
        "driams.drop(columns=['code', 'species', 'Ceftazidime','Gentamicin','Ertapenem','Clindamycin','Cefepime','Piperacillin-Tazobactam','Meropenem','Imipenem','Tobramycin','Fusidic acid','Oxacillin','Vancomycin'], inplace=True)\n",
        "driams.dropna(axis=1, how=\"all\", inplace=True)\n",
        "driams.dropna(axis=0, how=\"any\", inplace=True)\n",
        "driams.head()"
      ],
      "metadata": {
        "colab": {
          "base_uri": "https://localhost:8080/",
          "height": 255
        },
        "outputId": "cf717593-861b-4b0f-98ee-5b2674542910",
        "id": "zFGMu7k-2u-r"
      },
      "execution_count": null,
      "outputs": [
        {
          "output_type": "execute_result",
          "data": {
            "text/plain": [
              "      2000    2002    2004     2006    2008    2010    2012    2014     2016  \\\n",
              "0   813.25  1006.0  1030.2   776.60   814.0  1046.0  1148.2   820.0   940.20   \n",
              "1   110.80   103.4   110.5   105.20    95.8   123.6    85.5    91.4    91.80   \n",
              "2  1676.40  1631.6  1670.2  1972.25  1983.8  2505.6  2457.0  2221.8  1926.25   \n",
              "3   496.20   429.2   475.0   448.75   522.2   515.4   474.0   550.5   497.00   \n",
              "4   694.75   599.4   622.0   710.60   848.5   844.6   930.4   825.4   747.25   \n",
              "\n",
              "      2018  ...    9984    9986         9988        9990   9992    9994  \\\n",
              "0   783.25  ...   117.5   146.0   182.500000  180.333333  115.5   147.5   \n",
              "1    94.20  ...   261.0   180.0   213.500000  231.000000  195.0   250.0   \n",
              "2  1637.00  ...   508.5   518.0   493.500000  526.666667  573.5   539.5   \n",
              "3   525.40  ...  1097.0  1163.0  1016.666667  957.000000  949.5  1075.5   \n",
              "4   742.60  ...   105.5   117.0   104.000000  128.500000  136.5   127.5   \n",
              "\n",
              "    9996        9998  Ciprofloxacin  Ceftriaxone  \n",
              "0  107.0   34.553199            0.0          1.0  \n",
              "1  227.5  108.607311            0.0          0.0  \n",
              "2  531.0  175.364330            0.0          0.0  \n",
              "3  931.0  292.014401            0.0          0.0  \n",
              "4   98.5   37.187957            0.0          0.0  \n",
              "\n",
              "[5 rows x 4002 columns]"
            ],
            "text/html": [
              "<div>\n",
              "<style scoped>\n",
              "    .dataframe tbody tr th:only-of-type {\n",
              "        vertical-align: middle;\n",
              "    }\n",
              "\n",
              "    .dataframe tbody tr th {\n",
              "        vertical-align: top;\n",
              "    }\n",
              "\n",
              "    .dataframe thead th {\n",
              "        text-align: right;\n",
              "    }\n",
              "</style>\n",
              "<table border=\"1\" class=\"dataframe\">\n",
              "  <thead>\n",
              "    <tr style=\"text-align: right;\">\n",
              "      <th></th>\n",
              "      <th>2000</th>\n",
              "      <th>2002</th>\n",
              "      <th>2004</th>\n",
              "      <th>2006</th>\n",
              "      <th>2008</th>\n",
              "      <th>2010</th>\n",
              "      <th>2012</th>\n",
              "      <th>2014</th>\n",
              "      <th>2016</th>\n",
              "      <th>2018</th>\n",
              "      <th>...</th>\n",
              "      <th>9984</th>\n",
              "      <th>9986</th>\n",
              "      <th>9988</th>\n",
              "      <th>9990</th>\n",
              "      <th>9992</th>\n",
              "      <th>9994</th>\n",
              "      <th>9996</th>\n",
              "      <th>9998</th>\n",
              "      <th>Ciprofloxacin</th>\n",
              "      <th>Ceftriaxone</th>\n",
              "    </tr>\n",
              "  </thead>\n",
              "  <tbody>\n",
              "    <tr>\n",
              "      <th>0</th>\n",
              "      <td>813.25</td>\n",
              "      <td>1006.0</td>\n",
              "      <td>1030.2</td>\n",
              "      <td>776.60</td>\n",
              "      <td>814.0</td>\n",
              "      <td>1046.0</td>\n",
              "      <td>1148.2</td>\n",
              "      <td>820.0</td>\n",
              "      <td>940.20</td>\n",
              "      <td>783.25</td>\n",
              "      <td>...</td>\n",
              "      <td>117.5</td>\n",
              "      <td>146.0</td>\n",
              "      <td>182.500000</td>\n",
              "      <td>180.333333</td>\n",
              "      <td>115.5</td>\n",
              "      <td>147.5</td>\n",
              "      <td>107.0</td>\n",
              "      <td>34.553199</td>\n",
              "      <td>0.0</td>\n",
              "      <td>1.0</td>\n",
              "    </tr>\n",
              "    <tr>\n",
              "      <th>1</th>\n",
              "      <td>110.80</td>\n",
              "      <td>103.4</td>\n",
              "      <td>110.5</td>\n",
              "      <td>105.20</td>\n",
              "      <td>95.8</td>\n",
              "      <td>123.6</td>\n",
              "      <td>85.5</td>\n",
              "      <td>91.4</td>\n",
              "      <td>91.80</td>\n",
              "      <td>94.20</td>\n",
              "      <td>...</td>\n",
              "      <td>261.0</td>\n",
              "      <td>180.0</td>\n",
              "      <td>213.500000</td>\n",
              "      <td>231.000000</td>\n",
              "      <td>195.0</td>\n",
              "      <td>250.0</td>\n",
              "      <td>227.5</td>\n",
              "      <td>108.607311</td>\n",
              "      <td>0.0</td>\n",
              "      <td>0.0</td>\n",
              "    </tr>\n",
              "    <tr>\n",
              "      <th>2</th>\n",
              "      <td>1676.40</td>\n",
              "      <td>1631.6</td>\n",
              "      <td>1670.2</td>\n",
              "      <td>1972.25</td>\n",
              "      <td>1983.8</td>\n",
              "      <td>2505.6</td>\n",
              "      <td>2457.0</td>\n",
              "      <td>2221.8</td>\n",
              "      <td>1926.25</td>\n",
              "      <td>1637.00</td>\n",
              "      <td>...</td>\n",
              "      <td>508.5</td>\n",
              "      <td>518.0</td>\n",
              "      <td>493.500000</td>\n",
              "      <td>526.666667</td>\n",
              "      <td>573.5</td>\n",
              "      <td>539.5</td>\n",
              "      <td>531.0</td>\n",
              "      <td>175.364330</td>\n",
              "      <td>0.0</td>\n",
              "      <td>0.0</td>\n",
              "    </tr>\n",
              "    <tr>\n",
              "      <th>3</th>\n",
              "      <td>496.20</td>\n",
              "      <td>429.2</td>\n",
              "      <td>475.0</td>\n",
              "      <td>448.75</td>\n",
              "      <td>522.2</td>\n",
              "      <td>515.4</td>\n",
              "      <td>474.0</td>\n",
              "      <td>550.5</td>\n",
              "      <td>497.00</td>\n",
              "      <td>525.40</td>\n",
              "      <td>...</td>\n",
              "      <td>1097.0</td>\n",
              "      <td>1163.0</td>\n",
              "      <td>1016.666667</td>\n",
              "      <td>957.000000</td>\n",
              "      <td>949.5</td>\n",
              "      <td>1075.5</td>\n",
              "      <td>931.0</td>\n",
              "      <td>292.014401</td>\n",
              "      <td>0.0</td>\n",
              "      <td>0.0</td>\n",
              "    </tr>\n",
              "    <tr>\n",
              "      <th>4</th>\n",
              "      <td>694.75</td>\n",
              "      <td>599.4</td>\n",
              "      <td>622.0</td>\n",
              "      <td>710.60</td>\n",
              "      <td>848.5</td>\n",
              "      <td>844.6</td>\n",
              "      <td>930.4</td>\n",
              "      <td>825.4</td>\n",
              "      <td>747.25</td>\n",
              "      <td>742.60</td>\n",
              "      <td>...</td>\n",
              "      <td>105.5</td>\n",
              "      <td>117.0</td>\n",
              "      <td>104.000000</td>\n",
              "      <td>128.500000</td>\n",
              "      <td>136.5</td>\n",
              "      <td>127.5</td>\n",
              "      <td>98.5</td>\n",
              "      <td>37.187957</td>\n",
              "      <td>0.0</td>\n",
              "      <td>0.0</td>\n",
              "    </tr>\n",
              "  </tbody>\n",
              "</table>\n",
              "<p>5 rows × 4002 columns</p>\n",
              "</div>"
            ]
          },
          "metadata": {},
          "execution_count": 3
        }
      ]
    },
    {
      "cell_type": "code",
      "source": [
        "X = driams.iloc[:, 0:4000].values  # variables independientes (espectros de masa)\n",
        "y = driams.iloc[:, 4000:4002].values    # variable dependientes (resistencia a ciprofloxacin)\n",
        "X = np.asarray(X).astype(np.float32)\n",
        "y = np.asarray(y).astype(np.float32)"
      ],
      "metadata": {
        "id": "k0w67vc0LXhy"
      },
      "execution_count": null,
      "outputs": []
    },
    {
      "cell_type": "code",
      "source": [
        "# Split Data\n",
        "X_train, X_test, y_train, y_test = train_test_split(X, y, test_size = 0.2, random_state = 4432, stratify=y)\n",
        "X_train, X_val, y_train, y_val = train_test_split(X_train, y_train, test_size = 0.1, random_state = 52742, stratify=y_train)"
      ],
      "metadata": {
        "id": "KNJiOwl7LXhz"
      },
      "execution_count": null,
      "outputs": []
    },
    {
      "cell_type": "code",
      "source": [
        "# Normalize data\n",
        "scaler=Normalizer(norm='max')\n",
        "sc_X = scaler\n",
        "X_train = sc_X.fit_transform(X_train)\n",
        "X_test = sc_X.transform(X_test)\n",
        "X_val = sc_X.transform(X_val)"
      ],
      "metadata": {
        "id": "68-IhzXBLXhz"
      },
      "execution_count": null,
      "outputs": []
    },
    {
      "cell_type": "code",
      "source": [
        "# Create a DMatrix object\n",
        "train_dmatrix = xgb.DMatrix(X_train, label=y_train)\n",
        "test_dmatrix = xgb.DMatrix(X_test)"
      ],
      "metadata": {
        "id": "2k8dJ3b5Susb"
      },
      "execution_count": null,
      "outputs": []
    },
    {
      "cell_type": "code",
      "source": [
        "# define parameters\n",
        "params = {\n",
        "    'tree_method': 'gpu_hist',\n",
        "    'objective': 'binary:logistic',\n",
        "    'max_depth': 8,\n",
        "    'learning_rate': 0.1,\n",
        "    'eval_metric': 'logloss',\n",
        "    'subsample':0.5,\n",
        "    'gamma':0.1,\n",
        "    'min_child_weight' : 2\n",
        "}\n",
        "# Train model\n",
        "\n",
        "num_rounds = 300\n",
        "model = xgb.train(params, train_dmatrix, num_rounds)\n",
        "\n",
        "y_pred = model.predict(test_dmatrix)\n",
        "\n",
        "threshold = 0.5\n",
        "y_pred_binary = (y_pred > threshold).astype(int)"
      ],
      "metadata": {
        "id": "g0Yn-XM4ntHT"
      },
      "execution_count": null,
      "outputs": []
    },
    {
      "cell_type": "code",
      "source": [
        "# Ealuate the model\n",
        "accuracy = accuracy_score(y_test, y_pred_binary)\n",
        "f1 = f1_score(y_test, y_pred_binary, average='weighted')\n",
        "confusion_matrix = multilabel_confusion_matrix(y_test, y_pred_binary)\n",
        "hamming_loss_score = hamming_loss(y_test, (y_pred_binary >= 0.5).astype(int))\n",
        "auroc_scores = []\n",
        "for i in range(y.shape[1]):\n",
        "    auroc = roc_auc_score(y_test[:, i], y_pred_binary[:, i])\n",
        "    auroc_scores.append(auroc)\n",
        "a\n",
        "auprc_scores = []\n",
        "for i in range(y.shape[1]):\n",
        "    auprc = average_precision_score(y_test[:, i], y_pred_binary[:, i])\n",
        "    auprc_scores.append(auprc)\n",
        "\n",
        "print('Confusion Matrix:')\n",
        "print(confusion_matrix)\n",
        "print('Classification Report:')\n",
        "print(classification_report(y_test, y_pred_binary))\n",
        "print(f'Accuracy: {accuracy}')\n",
        "print(f'F1 Score: {f1}')\n",
        "\n",
        "print(\"AUROC Scores:\", auroc_scores)\n",
        "print(\"AUPRC Scores:\", auprc_scores)\n",
        "print(\"Hamming Loss:\", hamming_loss_score)"
      ],
      "metadata": {
        "id": "U6ub6Uv9zVpm",
        "colab": {
          "base_uri": "https://localhost:8080/"
        },
        "outputId": "92fa1b19-3d29-402c-a686-2a23b270d5d3"
      },
      "execution_count": null,
      "outputs": [
        {
          "output_type": "stream",
          "name": "stdout",
          "text": [
            "Confusion Matrix:\n",
            "[[[650  32]\n",
            "  [187 103]]\n",
            "\n",
            " [[758   6]\n",
            "  [135  73]]]\n",
            "Classification Report:\n",
            "              precision    recall  f1-score   support\n",
            "\n",
            "           0       0.76      0.36      0.48       290\n",
            "           1       0.92      0.35      0.51       208\n",
            "\n",
            "   micro avg       0.82      0.35      0.49       498\n",
            "   macro avg       0.84      0.35      0.50       498\n",
            "weighted avg       0.83      0.35      0.49       498\n",
            " samples avg       0.13      0.11      0.12       498\n",
            "\n",
            "Accuracy: 0.7047325102880658\n",
            "F1 Score: 0.49473203327760723\n",
            "AUROC Scores: [0.654125796339367, 0.6715540676600885]\n",
            "AUPRC Scores: [0.46337022846601394, 0.4631951206318295]\n",
            "Hamming Loss: 0.18518518518518517\n"
          ]
        },
        {
          "output_type": "stream",
          "name": "stderr",
          "text": [
            "/usr/local/lib/python3.9/dist-packages/sklearn/metrics/_classification.py:1344: UndefinedMetricWarning: Precision and F-score are ill-defined and being set to 0.0 in samples with no predicted labels. Use `zero_division` parameter to control this behavior.\n",
            "  _warn_prf(average, modifier, msg_start, len(result))\n",
            "/usr/local/lib/python3.9/dist-packages/sklearn/metrics/_classification.py:1344: UndefinedMetricWarning: Recall and F-score are ill-defined and being set to 0.0 in samples with no true labels. Use `zero_division` parameter to control this behavior.\n",
            "  _warn_prf(average, modifier, msg_start, len(result))\n"
          ]
        }
      ]
    }
  ]
}